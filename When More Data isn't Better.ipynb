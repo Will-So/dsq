{
 "cells": [
  {
   "cell_type": "markdown",
   "metadata": {},
   "source": [
    "# Roadmap"
   ]
  },
  {
   "cell_type": "markdown",
   "metadata": {},
   "source": [
    "- Introduction\n",
    "- Monte Carlo simulations adding noise. \n",
    "- Recommendation example. Data from the 20 nearest neighbors but only 80% as predictive. "
   ]
  },
  {
   "cell_type": "markdown",
   "metadata": {},
   "source": [
    "# Introduction"
   ]
  },
  {
   "cell_type": "markdown",
   "metadata": {},
   "source": [
    "If there can be a phrase that summarizes the difference between Data Science and statistics, a good candidate would be \"More Data is better than smarter algorithims\". Here is an important illustration from // illustrating this point:\n",
    "\n",
    "![]()\n",
    "\n",
    "This graphic relies on two facts:\n",
    "\n",
    "1. Data is increasing by an order of magnitude in each bar chart.\n",
    "2. The data is of identical quality as data is increasing by an order of magnitude."
   ]
  },
  {
   "cell_type": "markdown",
   "metadata": {},
   "source": [
    "# Baseline Example"
   ]
  },
  {
   "cell_type": "markdown",
   "metadata": {},
   "source": [
    "First we replicate"
   ]
  },
  {
   "cell_type": "markdown",
   "metadata": {},
   "source": [
    "# More data of slightly worse quality"
   ]
  },
  {
   "cell_type": "markdown",
   "metadata": {},
   "source": [
    "Here we add more data but we can collect more data at only a slightly worse quality. Say we can add an order of magnitude more data to our dataset but the new collection method is more error-prone so our idiosyncratic error $\\epsilon$ increases by 10 percentage points. Will more data be preferred to better algorithims in this case?"
   ]
  },
  {
   "cell_type": "markdown",
   "metadata": {},
   "source": [
    "# What happens with smaller increases in the size of the Data?"
   ]
  },
  {
   "cell_type": "markdown",
   "metadata": {},
   "source": [
    "As mentioned previously, we get better performance only when increasing the amount of data by an order of magnitude. This is a feasible undertaking when the data  "
   ]
  }
 ],
 "metadata": {
  "kernelspec": {
   "display_name": "Python 3",
   "language": "python",
   "name": "python3"
  },
  "language_info": {
   "codemirror_mode": {
    "name": "ipython",
    "version": 3
   },
   "file_extension": ".py",
   "mimetype": "text/x-python",
   "name": "python",
   "nbconvert_exporter": "python",
   "pygments_lexer": "ipython3",
   "version": "3.4.3"
  }
 },
 "nbformat": 4,
 "nbformat_minor": 0
}
